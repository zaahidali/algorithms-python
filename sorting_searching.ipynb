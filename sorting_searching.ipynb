{
 "cells": [
  {
   "cell_type": "markdown",
   "metadata": {},
   "source": [
    "# Bubble Sort Algorithm\n"
   ]
  },
  {
   "cell_type": "code",
   "execution_count": 2,
   "metadata": {},
   "outputs": [
    {
     "name": "stdout",
     "output_type": "stream",
     "text": [
      "[1, 2, 4, 5, 6, 7]\n"
     ]
    }
   ],
   "source": [
    "l1 = [4,2,1,6,7,5]\n",
    "\n",
    "lsorted=True\n",
    "while lsorted==True:\n",
    "    lsorted=False\n",
    "    for i in range(len(l1)-1):\n",
    "        if l1[i] > l1[i+1]:\n",
    "            l1[i],l1[i+1] = l1[i+1],l1[i]\n",
    "            lsorted=True\n",
    "print(l1)        "
   ]
  },
  {
   "cell_type": "code",
   "execution_count": 1,
   "metadata": {},
   "outputs": [
    {
     "name": "stdout",
     "output_type": "stream",
     "text": [
      "[1, 2, 3, 4, 5, 7, 8, 9]\n"
     ]
    }
   ],
   "source": [
    "l2 = [5,4,7,8,9,3,2,1]\n",
    "l2sort = True\n",
    "while l2sort == True:\n",
    "    l2sort = False\n",
    "    for i in range(len(l2)-1):\n",
    "        if l2[i] > l2[i+1]:\n",
    "            l2[i],l2[i+1] = l2[i+1],l2[i]\n",
    "            l2sort = True\n",
    "print(l2)            "
   ]
  },
  {
   "cell_type": "markdown",
   "metadata": {},
   "source": [
    "# Linear Search"
   ]
  },
  {
   "cell_type": "code",
   "execution_count": 30,
   "metadata": {},
   "outputs": [
    {
     "name": "stdout",
     "output_type": "stream",
     "text": [
      "The element 6: found at index: 13\n"
     ]
    }
   ],
   "source": [
    "l2 = [5,4,7,8,9,3,2,1,11,14,198,412,25,6]\n",
    "sno = 6\n",
    "element = -1\n",
    "for i in range(len(l2)):\n",
    "    if l2[i] == sno:\n",
    "        element = l2[i]\n",
    "        print(\"The element \"+str(l2[i])+\": found at index: \"+str(i))\n",
    "        break\n",
    "if element== -1:\n",
    "    print(\"The element does not exist\")\n",
    "        \n",
    "        "
   ]
  },
  {
   "cell_type": "markdown",
   "metadata": {},
   "source": [
    "# Binary Search"
   ]
  },
  {
   "cell_type": "code",
   "execution_count": 61,
   "metadata": {},
   "outputs": [
    {
     "name": "stdout",
     "output_type": "stream",
     "text": [
      "The value found at index : 4\n",
      "True\n",
      "4\n"
     ]
    }
   ],
   "source": [
    "l = [2, 3, 5, 8, 11, 12, 18]\n",
    "search_for = 11\n",
    "slice_start = 0\n",
    "slice_end = len(l) - 1\n",
    "found = False\n",
    "\n",
    "\n",
    "while slice_start <= slice_end and not found:\n",
    "    location = (slice_start + slice_end) // 2\n",
    "    if l[location] == search_for:\n",
    "        found = True\n",
    "        print(\"The value found at index : \"+str(location))\n",
    "    else:\n",
    "        if search_for < l[location]:\n",
    "            slice_end = location - 1\n",
    "        else:\n",
    "            slice_start = location + 1\n",
    "print(found)\n",
    "print(location)\n"
   ]
  },
  {
   "cell_type": "code",
   "execution_count": 62,
   "metadata": {},
   "outputs": [
    {
     "name": "stdout",
     "output_type": "stream",
     "text": [
      "True\n",
      "value found at index: 11\n"
     ]
    }
   ],
   "source": [
    "l3 = [1,2,3,4,5,6,7,8,9,10,11,12,13]\n",
    "starting_value = 0\n",
    "ending_value = len(l3)-1\n",
    "midvalue = 0\n",
    "searching_val = 12\n",
    "Found = False\n",
    "while starting_value<= ending_value and not Found:\n",
    "    midvalue = (starting_value+ending_value)//2\n",
    "    if l3[midvalue] == searching_val:\n",
    "        Found = True\n",
    "    else:\n",
    "        if l3[searching_val] > l3[midvalue]:\n",
    "            starting_value = midvalue +1\n",
    "        else:\n",
    "            ending_value = midvalue -1\n",
    "print(Found)\n",
    "print(\"value found at index: \"+str(midvalue))"
   ]
  },
  {
   "cell_type": "code",
   "execution_count": null,
   "metadata": {},
   "outputs": [],
   "source": []
  }
 ],
 "metadata": {
  "kernelspec": {
   "display_name": "Python 3",
   "language": "python",
   "name": "python3"
  },
  "language_info": {
   "codemirror_mode": {
    "name": "ipython",
    "version": 3
   },
   "file_extension": ".py",
   "mimetype": "text/x-python",
   "name": "python",
   "nbconvert_exporter": "python",
   "pygments_lexer": "ipython3",
   "version": "3.6.5"
  }
 },
 "nbformat": 4,
 "nbformat_minor": 2
}
